{
  "nbformat": 4,
  "nbformat_minor": 0,
  "metadata": {
    "colab": {
      "provenance": []
    },
    "kernelspec": {
      "name": "python3",
      "display_name": "Python 3"
    },
    "language_info": {
      "name": "python"
    }
  },
  "cells": [
    {
      "cell_type": "markdown",
      "source": [
        "# Módulo 2\n",
        "\n",
        "## 2.3 Instruções e Expressões\n",
        "\n",
        "### Q1\n",
        "\n",
        "Faça um programa que armazene o valor de 20 reais de salário por hora de um trabalhador, e o número de 40 horas trabalhadas na semana. Com essas informações, calcule e imprima:\n",
        "- Salário semanal bruto\n",
        "- Valor descontado por semana INSS (10% do bruto)\n",
        "- Valor descontado por semana pelo sindicato (5% do bruto)\n",
        "- Salário semanal líquido (Bruto - Descontos)"
      ],
      "metadata": {
        "id": "1pCTdOHonv5f"
      }
    },
    {
      "cell_type": "code",
      "execution_count": null,
      "metadata": {
        "id": "hVbX0I97nj6M"
      },
      "outputs": [],
      "source": [
        "salario_por_hora = 20
horas_trabalhadas = 40

salario_bruto = salario_por_hora * horas_trabalhadas

desconto_inss = salario_bruto * 0.10
desconto_sindicato = salario_bruto * 0.05

salario_liquido = salario_bruto - (desconto_inss + desconto_sindicato)

print("Salário semanal bruto:", salario_bruto)
print("Valor descontado por semana INSS:", desconto_inss)
print("Valor descontado por semana pelo sindicato:", desconto_sindicato)
print("Salário semanal líquido:", salario_liquido)"
      ]
    },
    {
      "cell_type": "markdown",
      "source": [
        "### Q2\n",
        "\n",
        "Altere o programa anterior para a partir dos valores de horas trabalhadas por semana e salário por hora, calcular **em somente duas instruções**:\n",
        "- Salário semanal bruto\n",
        "- Salário semanal líquido com todos os descontos. Para a segunda instrução, realize todos os cálculos aritméticos em uma expressão composta.\n"
      ],
      "metadata": {
        "id": "pIxKX9J2oGZ1"
      }
    },
    {
      "cell_type": "code",
      "source": [
        "salario_por_hora = 20
horas_trabalhadas = 40

salario_bruto = salario_por_hora * horas_trabalhadas
salario_liquido = salario_bruto - (salario_bruto * 0.10 + salario_bruto * 0.05)

print("Salário semanal bruto:", salario_bruto)
print("Salário semanal líquido:", salario_liquido)"
      ],
      "metadata": {
        "id": "pAHw9Xf9oGoi"
      },
      "execution_count": null,
      "outputs": []
    },
    {
      "cell_type": "markdown",
      "source": [
        "### Q3\n",
        "\n",
        "Você está desenvolvendo um software de conversão de moeda e precisa calcular o valor equivalente em yuan chinês a partir de uma quantia em real. A taxa de câmbio é de 0.69 BRL (real) para 1 CNY (yuan). Escreva um programa que define em uma variável uma quantia em reais (BRL) e calcula o valor equivalente em yuan (CNY). Imprima o resultado."
      ],
      "metadata": {
        "id": "m8tlHRuWpBOB"
      }
    },
    {
      "cell_type": "code",
      "source": [
        "quantia_brl = 100

taxa_cambio = 0.69

quantia_cny = quantia_brl / taxa_cambio

print("Valor em yuan (CNY):", quantia_cny)"
      ],
      "metadata": {
        "id": "2bPw7uF6oeL9"
      },
      "execution_count": null,
      "outputs": []
    },
    {
      "cell_type": "markdown",
      "source": [
        "### Q4\n",
        "\n",
        "Você é um treinador de corrida e deseja calcular a velocidade média que um atleta precisa manter para completar a Maratona Internacional de São Silvestre, que tem uma distância total de 42.195 km. A fórmula para calcular a velocidade média ($v\\_media$) é dada por $v\\_media = \\frac{distancia}{tempo}$ . Escreva um programa em Python para calcular a velocidade média necessária para completar a maratona em 3 horas.\n",
        "\n",
        "**Calcule e imprima o resultado em metros/segundo**, ou seja, converta a distância de quilômetros para metros ($metro = \\frac{km}{1000}$) e a velocidade de horas para segundos $(segundo = \\frac{hora}{3600})$."
      ],
      "metadata": {
        "id": "-Na3ltDCp74A"
      }
    },
    {
      "cell_type": "code",
      "source": [
        "distancia_metros = 42.195 * 1000

tempo_segundos = 3 * 60 * 60

velocidade_media = distancia_metros / tempo_segundos

print("Velocidade média necessária (m/s):", velocidade_media)"
      ],
      "metadata": {
        "id": "Bn6l8kcSrE4L"
      },
      "execution_count": null,
      "outputs": []
    }
  ]
}
